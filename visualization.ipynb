{
 "cells": [
  {
   "cell_type": "code",
   "execution_count": null,
   "id": "c00ffbd7-69b5-4383-96fc-02f38974f054",
   "metadata": {},
   "outputs": [],
   "source": [
    "import numpy as np\n",
    "import matplotlib.pyplot as plt\n",
    "import pandas as pd"
   ]
  },
  {
   "cell_type": "code",
   "execution_count": null,
   "id": "9d718751-0cb2-4981-b8d5-fdc2d5407dcc",
   "metadata": {},
   "outputs": [],
   "source": [
    "\n",
    "file_path = 'winequality-white.csv'\n",
    "data = pd.read_csv(file_path)"
   ]
  },
  {
   "cell_type": "code",
   "execution_count": null,
   "id": "b7ce6f75-577c-43cf-aea8-7b5a4f6c9a37",
   "metadata": {},
   "outputs": [],
   "source": [
    "correlation_matrix = data.corr()\n",
    "fig, ax = plt.subplots(figsize=(12, 10))\n",
    "cax = ax.matshow(correlation_matrix, cmap='coolwarm')\n",
    "fig.colorbar(cax)\n",
    "plt.xticks(range(len(correlation_matrix.columns)), correlation_matrix.columns, rotation=90)\n",
    "plt.yticks(range(len(correlation_matrix.columns)), correlation_matrix.columns)\n",
    "plt.title('Heatmap of Wine Quality Correlations')\n",
    "plt.show()"
   ]
  },
  {
   "cell_type": "code",
   "execution_count": null,
   "id": "55a4640d-41cf-4872-a61f-d918dda6ac81",
   "metadata": {
    "scrolled": true
   },
   "outputs": [],
   "source": [
    "# Scatter plot to visualize the relationship between alcohol percentage and wine quality using matplotlib\n",
    "plt.figure(figsize=(10, 6))\n",
    "plt.scatter(data['alcohol'], data['quality'])\n",
    "plt.title('Relationship between Alcohol Percentage and Wine Quality')\n",
    "plt.xlabel('Alcohol Percentage')\n",
    "plt.ylabel('Quality Score')\n",
    "plt.show()"
   ]
  },
  {
   "cell_type": "code",
   "execution_count": null,
   "id": "4e50138e-9f70-49d0-8b2e-7e20d6e4a21f",
   "metadata": {},
   "outputs": [],
   "source": [
    "# Scatter plot to visualize the relationship between density and residual sugar using matplotlib\n",
    "plt.figure(figsize=(10, 6))\n",
    "plt.scatter(data['density'], data['residual sugar'])\n",
    "plt.title('Relationship between Density and Residual Sugar')\n",
    "plt.xlabel('Density')\n",
    "plt.ylabel('Residual Sugar')\n",
    "plt.show()\n"
   ]
  },
  {
   "cell_type": "code",
   "execution_count": null,
   "id": "97831468-7b47-4123-b2b5-0a28d7ec4122",
   "metadata": {},
   "outputs": [],
   "source": [
    "# Scatter plots to visualize the relationship between density and sulfur dioxide (both free and total) using matplotlib\n",
    "plt.figure(figsize=(12, 5))\n",
    "plt.subplot(1, 2, 1)\n",
    "plt.scatter(data['density'], data['free sulfur dioxide'])\n",
    "plt.title('Density vs Free Sulfur Dioxide')\n",
    "plt.xlabel('Density')\n",
    "plt.ylabel('Free Sulfur Dioxide')\n",
    "\n",
    "plt.subplot(1, 2, 2)\n",
    "plt.scatter(data['density'], data['total sulfur dioxide'])\n",
    "plt.title('Density vs Total Sulfur Dioxide')\n",
    "plt.xlabel('Density')\n",
    "plt.ylabel('Total Sulfur Dioxide')\n",
    "\n",
    "plt.tight_layout()\n",
    "plt.show()"
   ]
  },
  {
   "cell_type": "code",
   "execution_count": null,
   "id": "d9d0d948-573e-42aa-aeda-fcccccfe6acf",
   "metadata": {},
   "outputs": [],
   "source": [
    "# Scatter plots to examine the relationship between density and alcohol, and their joint relationship with quality using matplotlib\n",
    "plt.figure(figsize=(12, 5))\n",
    "plt.subplot(1, 2, 1)\n",
    "plt.scatter(data['density'], data['alcohol'])\n",
    "plt.title('Density vs Alcohol')\n",
    "plt.xlabel('Density')\n",
    "plt.ylabel('Alcohol')"
   ]
  },
  {
   "cell_type": "code",
   "execution_count": null,
   "id": "25bcf4cf-b0d4-4881-91b2-dee540235f16",
   "metadata": {},
   "outputs": [],
   "source": [
    "plt.subplot(1, 2, 2)\n",
    "plt.scatter(data['density'], data['quality'], label='Density', alpha=0.5)\n",
    "plt.scatter(data['alcohol'], data['quality'], label='Alcohol', alpha=0.5)\n",
    "plt.legend()\n",
    "plt.title('Joint Relationship with Quality')\n",
    "plt.xlabel('Density / Alcohol')\n",
    "plt.ylabel('Quality')\n",
    "\n",
    "plt.tight_layout()\n",
    "plt.show()"
   ]
  },
  {
   "cell_type": "code",
   "execution_count": null,
   "id": "3b7c7c6a-4d07-45c5-8e9f-8da568e36301",
   "metadata": {},
   "outputs": [],
   "source": []
  },
  {
   "cell_type": "code",
   "execution_count": null,
   "id": "c9b48c5e-430c-4bdb-bf63-a3dfd42f56be",
   "metadata": {},
   "outputs": [],
   "source": []
  }
 ],
 "metadata": {
  "kernelspec": {
   "display_name": "Python 3 (ipykernel)",
   "language": "python",
   "name": "python3"
  },
  "language_info": {
   "codemirror_mode": {
    "name": "ipython",
    "version": 3
   },
   "file_extension": ".py",
   "mimetype": "text/x-python",
   "name": "python",
   "nbconvert_exporter": "python",
   "pygments_lexer": "ipython3",
   "version": "3.11.0"
  }
 },
 "nbformat": 4,
 "nbformat_minor": 5
}
